{
 "cells": [
  {
   "cell_type": "markdown",
   "metadata": {},
   "source": [
    "# Les fonctions en Julia"
   ]
  },
  {
   "cell_type": "markdown",
   "metadata": {},
   "source": [
    "## Résumé"
   ]
  },
  {
   "cell_type": "markdown",
   "metadata": {},
   "source": [
    "**Déclaration**\n",
    "\n",
    "`(x -> f(x))`\n",
    "\n",
    "`f(x) = x < 0 ? 0 : x`\n",
    "\n",
    "```julia\n",
    "@doc \"\"\"\n",
    "Ma documentation, avec une expression de math ``\\int_\\Omega u(x) dx > 0``.\n",
    "\"\"\"\n",
    "function u(x::Float64)::Float64\n",
    "    return exp(-x^2/2.)\n",
    "end\n",
    "```\n",
    "\n",
    "**Aguments**\n",
    "\n",
    "La signature d'une fonction est en général\n",
    "\n",
    "`fonction(args...; kwargs...)`\n",
    "\n",
    "Alors `args` et `kwargs` sont des *tuples* contenant les arguments spécifiés. Chaque item peut être typé voire fixé par défaut.\n",
    "\n",
    "**Appel**\n",
    "\n",
    "`f(x)`"
   ]
  },
  {
   "cell_type": "markdown",
   "metadata": {},
   "source": [
    "## Fonctions anonymes"
   ]
  },
  {
   "cell_type": "markdown",
   "metadata": {},
   "source": [
    "Une première manière d'utiliser les fonctions est d'utiliser des fonctions anonymes. Elles sont utiles lorsqu'utilisées une seule fois et que leur expression est très simple. Par exemple"
   ]
  },
  {
   "cell_type": "code",
   "execution_count": 1,
   "metadata": {},
   "outputs": [
    {
     "data": {
      "text/plain": [
       "#1 (generic function with 1 method)"
      ]
     },
     "execution_count": 1,
     "metadata": {},
     "output_type": "execute_result"
    }
   ],
   "source": [
    "(x -> x^2)"
   ]
  },
  {
   "cell_type": "markdown",
   "metadata": {},
   "source": [
    "C'est effectivement une fonction, on peut l'évaluer."
   ]
  },
  {
   "cell_type": "code",
   "execution_count": 2,
   "metadata": {},
   "outputs": [
    {
     "data": {
      "text/plain": [
       "1.0"
      ]
     },
     "execution_count": 2,
     "metadata": {},
     "output_type": "execute_result"
    }
   ],
   "source": [
    "(t -> exp(t))(0)"
   ]
  },
  {
   "cell_type": "markdown",
   "metadata": {},
   "source": [
    "Les fonctions anonymes acceptent plusieurs variables."
   ]
  },
  {
   "cell_type": "code",
   "execution_count": 3,
   "metadata": {},
   "outputs": [
    {
     "data": {
      "text/plain": [
       "#5 (generic function with 1 method)"
      ]
     },
     "execution_count": 3,
     "metadata": {},
     "output_type": "execute_result"
    }
   ],
   "source": [
    "( (t,x,y) -> exp(t - sqrt(x^2 + y^2)) )"
   ]
  },
  {
   "cell_type": "markdown",
   "metadata": {},
   "source": [
    "## Déclaration sur une ligne"
   ]
  },
  {
   "cell_type": "markdown",
   "metadata": {},
   "source": [
    "Toujours pour des fonctions simples, on peut utiliser la syntaxe suivante pour déclarer une fonction, très proche des notations mathématiques."
   ]
  },
  {
   "cell_type": "code",
   "execution_count": 4,
   "metadata": {},
   "outputs": [
    {
     "data": {
      "text/plain": [
       "f (generic function with 1 method)"
      ]
     },
     "execution_count": 4,
     "metadata": {},
     "output_type": "execute_result"
    }
   ],
   "source": [
    "f(x) = x^2"
   ]
  },
  {
   "cell_type": "markdown",
   "metadata": {},
   "source": [
    "On l'évalue."
   ]
  },
  {
   "cell_type": "code",
   "execution_count": 5,
   "metadata": {},
   "outputs": [
    {
     "data": {
      "text/plain": [
       "1.0"
      ]
     },
     "execution_count": 5,
     "metadata": {},
     "output_type": "execute_result"
    }
   ],
   "source": [
    "f(-1.0)"
   ]
  },
  {
   "cell_type": "markdown",
   "metadata": {},
   "source": [
    "## Syntaxe complète"
   ]
  },
  {
   "cell_type": "markdown",
   "metadata": {},
   "source": [
    "Lors de la composition d'un code, on souhaite écrire une fonction documentée. On peut ajouter des contraintes (des types d'arguments et de retours) ainsi que la documentation de la fonction."
   ]
  },
  {
   "cell_type": "code",
   "execution_count": 6,
   "metadata": {},
   "outputs": [
    {
     "data": {
      "text/plain": [
       "carre"
      ]
     },
     "execution_count": 6,
     "metadata": {},
     "output_type": "execute_result"
    }
   ],
   "source": [
    "@doc \"\"\"\n",
    "Calcule le carré du nombre réel ``x``.\n",
    "\"\"\"\n",
    "function carre(x::Float64)::Float64\n",
    "     return x^2\n",
    "end"
   ]
  },
  {
   "cell_type": "markdown",
   "metadata": {},
   "source": [
    "Cette fonction ne prend en argument que les nombres flottants, ni les entiers ni les complexes, quand bien même l'opérateur élévation au carré est défini pour ces deux ensembles de nombres."
   ]
  },
  {
   "cell_type": "code",
   "execution_count": 7,
   "metadata": {},
   "outputs": [
    {
     "data": {
      "text/plain": [
       "1.0"
      ]
     },
     "execution_count": 7,
     "metadata": {},
     "output_type": "execute_result"
    }
   ],
   "source": [
    "carre(-1.0)"
   ]
  },
  {
   "cell_type": "code",
   "execution_count": 8,
   "metadata": {},
   "outputs": [
    {
     "data": {
      "text/plain": [
       "Float64"
      ]
     },
     "execution_count": 8,
     "metadata": {},
     "output_type": "execute_result"
    }
   ],
   "source": [
    "typeof(carre(-1.0))"
   ]
  },
  {
   "cell_type": "code",
   "execution_count": 9,
   "metadata": {},
   "outputs": [
    {
     "ename": "LoadError",
     "evalue": "MethodError: no method matching carre(::Int64)\n\u001b[0mClosest candidates are:\n\u001b[0m  carre(\u001b[91m::Float64\u001b[39m) at In[6]:4",
     "output_type": "error",
     "traceback": [
      "MethodError: no method matching carre(::Int64)\n\u001b[0mClosest candidates are:\n\u001b[0m  carre(\u001b[91m::Float64\u001b[39m) at In[6]:4",
      "",
      "Stacktrace:",
      " [1] top-level scope",
      "   @ In[9]:1",
      " [2] eval",
      "   @ .\\boot.jl:373 [inlined]",
      " [3] include_string(mapexpr::typeof(REPL.softscope), mod::Module, code::String, filename::String)",
      "   @ Base .\\loading.jl:1196"
     ]
    }
   ],
   "source": [
    "carre(-1)"
   ]
  },
  {
   "cell_type": "code",
   "execution_count": 10,
   "metadata": {},
   "outputs": [
    {
     "ename": "LoadError",
     "evalue": "MethodError: no method matching carre(::Complex{Int64})\n\u001b[0mClosest candidates are:\n\u001b[0m  carre(\u001b[91m::Float64\u001b[39m) at In[6]:4",
     "output_type": "error",
     "traceback": [
      "MethodError: no method matching carre(::Complex{Int64})\n\u001b[0mClosest candidates are:\n\u001b[0m  carre(\u001b[91m::Float64\u001b[39m) at In[6]:4",
      "",
      "Stacktrace:",
      " [1] top-level scope",
      "   @ In[10]:1",
      " [2] eval",
      "   @ .\\boot.jl:373 [inlined]",
      " [3] include_string(mapexpr::typeof(REPL.softscope), mod::Module, code::String, filename::String)",
      "   @ Base .\\loading.jl:1196"
     ]
    }
   ],
   "source": [
    "carre(1im)"
   ]
  },
  {
   "cell_type": "markdown",
   "metadata": {},
   "source": [
    "On peut appeler l'aide pour cette fonction."
   ]
  },
  {
   "cell_type": "code",
   "execution_count": 11,
   "metadata": {},
   "outputs": [
    {
     "name": "stdout",
     "output_type": "stream",
     "text": [
      "search: \u001b[0m\u001b[1mc\u001b[22m\u001b[0m\u001b[1ma\u001b[22m\u001b[0m\u001b[1mr\u001b[22m\u001b[0m\u001b[1mr\u001b[22m\u001b[0m\u001b[1me\u001b[22m Abstra\u001b[0m\u001b[1mc\u001b[22mt\u001b[0m\u001b[1mA\u001b[22m\u001b[0m\u001b[1mr\u001b[22m\u001b[0m\u001b[1mr\u001b[22may \u001b[0m\u001b[1mc\u001b[22mle\u001b[0m\u001b[1ma\u001b[22m\u001b[0m\u001b[1mr\u001b[22m_histo\u001b[0m\u001b[1mr\u001b[22my \u001b[0m\u001b[1mC\u001b[22moncurrencyViol\u001b[0m\u001b[1ma\u001b[22mtionE\u001b[0m\u001b[1mr\u001b[22m\u001b[0m\u001b[1mr\u001b[22mor\n",
      "\n"
     ]
    },
    {
     "data": {
      "text/latex": [
       "Calcule le carré du nombre réel $x$.\n",
       "\n"
      ],
      "text/markdown": [
       "Calcule le carré du nombre réel $x$.\n"
      ],
      "text/plain": [
       "  Calcule le carré du nombre réel \u001b[35mx\u001b[39m."
      ]
     },
     "execution_count": 11,
     "metadata": {},
     "output_type": "execute_result"
    }
   ],
   "source": [
    "?carre"
   ]
  },
  {
   "cell_type": "markdown",
   "metadata": {},
   "source": [
    "## Fonctions avec nombre variable d'arguments"
   ]
  },
  {
   "cell_type": "markdown",
   "metadata": {},
   "source": [
    "Il peut être utile d'instancier des fonctions dont le nombre d'arguments est variable."
   ]
  },
  {
   "cell_type": "code",
   "execution_count": 12,
   "metadata": {},
   "outputs": [
    {
     "data": {
      "text/plain": [
       "f (generic function with 2 methods)"
      ]
     },
     "execution_count": 12,
     "metadata": {},
     "output_type": "execute_result"
    }
   ],
   "source": [
    "function f(args...)\n",
    "    for arg in args\n",
    "        println(arg)\n",
    "    end\n",
    "end"
   ]
  },
  {
   "cell_type": "code",
   "execution_count": 13,
   "metadata": {},
   "outputs": [
    {
     "name": "stdout",
     "output_type": "stream",
     "text": [
      "1.0\n",
      "2.0\n",
      "3.0\n",
      "Hello !\n"
     ]
    }
   ],
   "source": [
    "f(1.0, 2.0, 3.0, \"Hello !\")"
   ]
  },
  {
   "cell_type": "markdown",
   "metadata": {},
   "source": [
    "## Arguments optionnels"
   ]
  },
  {
   "cell_type": "markdown",
   "metadata": {},
   "source": [
    "On peut instancier une fonction en fixant une valeur par défaut pour certains arguments. Par exemple, la fonction suivante applique l'opérateur binaire `op` à `x` et `y`."
   ]
  },
  {
   "cell_type": "code",
   "execution_count": 14,
   "metadata": {},
   "outputs": [
    {
     "data": {
      "text/plain": [
       "3"
      ]
     },
     "execution_count": 14,
     "metadata": {},
     "output_type": "execute_result"
    }
   ],
   "source": [
    "function f(x, y, op=+)\n",
    "    op(x, y)\n",
    "end\n",
    "\n",
    "f(1, 2)"
   ]
  },
  {
   "cell_type": "code",
   "execution_count": 15,
   "metadata": {},
   "outputs": [
    {
     "data": {
      "text/plain": [
       "6"
      ]
     },
     "execution_count": 15,
     "metadata": {},
     "output_type": "execute_result"
    }
   ],
   "source": [
    "f(2, 3, *)"
   ]
  },
  {
   "cell_type": "markdown",
   "metadata": {},
   "source": [
    "## Arguments mot-clefs"
   ]
  },
  {
   "cell_type": "markdown",
   "metadata": {},
   "source": [
    "Les mots-clefs sont des arguments nommés. Ils sont séparés dans la signature de la fonction par le caractère `;` mais ce n'est qu'une convention de style."
   ]
  },
  {
   "cell_type": "code",
   "execution_count": 16,
   "metadata": {},
   "outputs": [
    {
     "data": {
      "text/plain": [
       "0.3333333333333333"
      ]
     },
     "execution_count": 16,
     "metadata": {},
     "output_type": "execute_result"
    }
   ],
   "source": [
    "function f(x, y; op=+)\n",
    "    if op == nothing\n",
    "        x + y\n",
    "    else\n",
    "        op(x, y)\n",
    "    end\n",
    "end\n",
    "\n",
    "f(1.0, 3.0, op=/)"
   ]
  },
  {
   "cell_type": "code",
   "execution_count": 17,
   "metadata": {},
   "outputs": [
    {
     "data": {
      "text/plain": [
       "4.0"
      ]
     },
     "execution_count": 17,
     "metadata": {},
     "output_type": "execute_result"
    }
   ],
   "source": [
    "f(1.0, 3)"
   ]
  },
  {
   "cell_type": "markdown",
   "metadata": {},
   "source": [
    "## Référence"
   ]
  },
  {
   "cell_type": "markdown",
   "metadata": {},
   "source": [
    "**[1]** *Documentation Julia, page sur les fonctions*, [https://docs.julialang.org/en/v1/manual/functions/](https://docs.julialang.org/en/v1/manual/functions/)"
   ]
  }
 ],
 "metadata": {
  "kernelspec": {
   "display_name": "Julia 1.7.2",
   "language": "julia",
   "name": "julia-1.7"
  },
  "language_info": {
   "file_extension": ".jl",
   "mimetype": "application/julia",
   "name": "julia",
   "version": "1.7.2"
  }
 },
 "nbformat": 4,
 "nbformat_minor": 4
}
