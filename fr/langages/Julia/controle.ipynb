{
 "cells": [
  {
   "cell_type": "markdown",
   "id": "21e3c9a6-c2a3-47d1-ab82-1c4f6c73a0e6",
   "metadata": {},
   "source": [
    "# Structures de contrôle"
   ]
  },
  {
   "cell_type": "markdown",
   "id": "854a5f49-b2ca-4073-b138-5a8d2ac76623",
   "metadata": {},
   "source": [
    "## Résumé"
   ]
  },
  {
   "cell_type": "markdown",
   "id": "518b922a-eb68-4881-8733-e34eb5ca3439",
   "metadata": {},
   "source": [
    "**Instructions composées**\n",
    "\n",
    "`( instruction1; instruction2; ... ; instruction retournée)`\n",
    "\n",
    "```julia\n",
    "begin\n",
    "    instruction1\n",
    "    instruction2\n",
    "    ... \n",
    "    instruction retournée\n",
    "end\n",
    "```\n",
    "\n",
    "**Evaluation conditionnelle**\n",
    "\n",
    "` booleen ? instruction si vrai : instruction sinon`\n",
    "\n",
    "```julia\n",
    "if booleen1\n",
    "    instruction1\n",
    "elseif booleen2\n",
    "    instruction2\n",
    "elseif booleen3\n",
    "    instruction3\n",
    "...\n",
    "else\n",
    "    instruction\n",
    "end\n",
    "```\n",
    "\n",
    "**Boucle `for`**\n",
    "\n",
    "```julia\n",
    "for var in iterable\n",
    "    instruction\n",
    "end\n",
    "```\n",
    "\n",
    "```julia\n",
    "for var ∈ iterable\n",
    "    instruction\n",
    "end\n",
    "```\n",
    "\n",
    "```julia\n",
    "for var1 in iterable1, var2 in iterable2\n",
    "    instruction\n",
    "end\n",
    "```\n",
    "\n",
    "**Boucle `while`**\n",
    "\n",
    "```julia\n",
    "while booleen\n",
    "    instruction\n",
    "end\n",
    "```\n",
    "\n",
    "**Test unitaire**\n",
    "\n",
    "`@assert booleen message`"
   ]
  },
  {
   "cell_type": "markdown",
   "id": "2ad37785-d9f7-4be8-81ac-f88b65ef8a7b",
   "metadata": {},
   "source": [
    "## Instructions composées"
   ]
  },
  {
   "cell_type": "markdown",
   "id": "26c6017d-23f1-406e-a1f0-88af79ede5c1",
   "metadata": {},
   "source": [
    "Les instructions composées sont des blocs d'instructions. La manière compacte de les construire est"
   ]
  },
  {
   "cell_type": "code",
   "execution_count": 1,
   "id": "94b7acb1-5bdd-4237-9a57-a8d5b334f93b",
   "metadata": {},
   "outputs": [
    {
     "data": {
      "text/plain": [
       "3"
      ]
     },
     "execution_count": 1,
     "metadata": {},
     "output_type": "execute_result"
    }
   ],
   "source": [
    "( x = 1; y = 2; x + y )"
   ]
  },
  {
   "cell_type": "markdown",
   "id": "00c04177-bfa7-4cfa-bb5c-31257680c23f",
   "metadata": {},
   "source": [
    "Plus lisible mais un peu plus long :"
   ]
  },
  {
   "cell_type": "code",
   "execution_count": 2,
   "id": "533402a1-9092-4867-9ca9-210b49b42d75",
   "metadata": {},
   "outputs": [
    {
     "data": {
      "text/plain": [
       "3"
      ]
     },
     "execution_count": 2,
     "metadata": {},
     "output_type": "execute_result"
    }
   ],
   "source": [
    "begin\n",
    "    x = 1\n",
    "    y = 2\n",
    "    x + y\n",
    "end"
   ]
  },
  {
   "cell_type": "markdown",
   "id": "9a0e9aca-4e33-4c4a-9999-68fb3bd50fff",
   "metadata": {},
   "source": [
    "## Evaluation conditionnelle"
   ]
  },
  {
   "cell_type": "markdown",
   "id": "8bbdb005-ca92-4cf2-80fe-567c32077958",
   "metadata": {},
   "source": [
    "On dispose d'au moins deux syntaxes pour les évaluations conditionnelles. Une première est très courte et compacte, pratique pour l'usage dans les fonctions très simple. Lorsqu'on ne fait face qu'à deux alternatives, on peut utiliser `b ? a : c`."
   ]
  },
  {
   "cell_type": "code",
   "execution_count": 3,
   "id": "2d363b95-4239-4b57-8fad-8739ca49bdcb",
   "metadata": {},
   "outputs": [
    {
     "data": {
      "text/plain": [
       "test (generic function with 1 method)"
      ]
     },
     "execution_count": 3,
     "metadata": {},
     "output_type": "execute_result"
    }
   ],
   "source": [
    "test(m::Int) = m < 0 ? \"m est un entier négatif.\" : \"m est un entier positif ou nul.\""
   ]
  },
  {
   "cell_type": "code",
   "execution_count": 4,
   "id": "fbd81694-bf59-4e74-a491-c0ecf6ae7303",
   "metadata": {},
   "outputs": [
    {
     "data": {
      "text/plain": [
       "\"m est un entier négatif.\""
      ]
     },
     "execution_count": 4,
     "metadata": {},
     "output_type": "execute_result"
    }
   ],
   "source": [
    "test(-3)"
   ]
  },
  {
   "cell_type": "code",
   "execution_count": 5,
   "id": "598822ee-3eaf-4cf0-bfe8-1c352e552a33",
   "metadata": {},
   "outputs": [
    {
     "data": {
      "text/plain": [
       "\"m est un entier positif ou nul.\""
      ]
     },
     "execution_count": 5,
     "metadata": {},
     "output_type": "execute_result"
    }
   ],
   "source": [
    "test(15)"
   ]
  },
  {
   "cell_type": "markdown",
   "id": "6ca867bf-af0b-4e17-9daa-f02a13dbfc7c",
   "metadata": {},
   "source": [
    "La même fonction peut s'écrire avec un bloc `if ... else ... end`"
   ]
  },
  {
   "cell_type": "code",
   "execution_count": 6,
   "id": "5ba5d91b-5913-4eb0-bf4b-35edcca575ad",
   "metadata": {},
   "outputs": [
    {
     "name": "stdout",
     "output_type": "stream",
     "text": [
      "m est un entier positif ou nul.\n"
     ]
    }
   ],
   "source": [
    "function test(m::Int)\n",
    "    if m < 0\n",
    "        println(\"m est un entier négatif.\")\n",
    "    else\n",
    "        println(\"m est un entier positif ou nul.\")\n",
    "    end\n",
    "end\n",
    "\n",
    "test(0)"
   ]
  },
  {
   "cell_type": "markdown",
   "id": "98e1c504-d7fa-4b9f-a17d-7428327226da",
   "metadata": {},
   "source": [
    "Il est possible d'ajouter de nouvelles alternatives. Ici, séparons le cas $m=0$."
   ]
  },
  {
   "cell_type": "code",
   "execution_count": 7,
   "id": "149ed6d8-941e-4ced-bbc7-087e8f01f28a",
   "metadata": {},
   "outputs": [
    {
     "name": "stdout",
     "output_type": "stream",
     "text": [
      "m est l'entier nul.\n"
     ]
    }
   ],
   "source": [
    "function test(m::Int)\n",
    "    if m < 0\n",
    "        println(\"m est un entier négatif.\")\n",
    "    elseif m == 0\n",
    "        println(\"m est l'entier nul.\")\n",
    "    else\n",
    "        println(\"m est un entier positif.\")\n",
    "    end\n",
    "end\n",
    "\n",
    "test(0)"
   ]
  },
  {
   "cell_type": "markdown",
   "id": "90510fb1-252c-40fb-9c12-d1256fcb049f",
   "metadata": {},
   "source": [
    "En julia, les opérateurs logiques sont\n",
    "\n",
    "| Opérateur | Fonction logique |\n",
    "|:----------|:----------------:|\n",
    "| `!`       | NON              |\n",
    "| `\\|\\|`    | OU               |\n",
    "| `&&`      | ET               |\n",
    "\n",
    "On trouve aussi les opérateurs logiques binaires (i.e qui agissent bit à bit) :\n",
    "\n",
    "| Opérateur | Fonction logique |\n",
    "|:----------|:----------------:|\n",
    "| `\\|`      | OU               |\n",
    "| `&`       | ET               |"
   ]
  },
  {
   "cell_type": "markdown",
   "id": "df486d59-9ebe-419a-a6f3-240fbbbd6e39",
   "metadata": {},
   "source": [
    "## Evaluations répétées"
   ]
  },
  {
   "cell_type": "markdown",
   "id": "b13882da-1fb4-4b92-b184-cab5c6a7ea02",
   "metadata": {},
   "source": [
    "### Boucle `for`"
   ]
  },
  {
   "cell_type": "markdown",
   "id": "18deb6b2-3fa3-4117-87ee-49bd7d2b5f1e",
   "metadata": {},
   "source": [
    "Les boucles `for` sont des structures permettant de parcourir des structures de données composées d'objets, des *itérables*. Voici trois syntaxes équivalentes permettant de parcourir la liste `1:5`."
   ]
  },
  {
   "cell_type": "code",
   "execution_count": 8,
   "id": "34ae824f-2580-451b-9ae2-6b54a32b951a",
   "metadata": {},
   "outputs": [
    {
     "name": "stdout",
     "output_type": "stream",
     "text": [
      "1\n",
      "2\n",
      "3\n",
      "4\n",
      "5\n"
     ]
    }
   ],
   "source": [
    "for a = 1:5\n",
    "    println(a)\n",
    "end"
   ]
  },
  {
   "cell_type": "code",
   "execution_count": 9,
   "id": "a7f6b6e5-1492-4c40-ad08-8332870ccba5",
   "metadata": {},
   "outputs": [
    {
     "name": "stdout",
     "output_type": "stream",
     "text": [
      "1\n",
      "2\n",
      "3\n",
      "4\n",
      "5\n"
     ]
    }
   ],
   "source": [
    "for a in 1:5\n",
    "    println(a)\n",
    "end"
   ]
  },
  {
   "cell_type": "code",
   "execution_count": 10,
   "id": "c6ba75e2-d2ca-4a40-994f-ea0fa44a675e",
   "metadata": {},
   "outputs": [
    {
     "name": "stdout",
     "output_type": "stream",
     "text": [
      "1\n",
      "2\n",
      "3\n",
      "4\n",
      "5\n"
     ]
    }
   ],
   "source": [
    "for a ∈ 1:5\n",
    "    println(a)\n",
    "end"
   ]
  },
  {
   "cell_type": "markdown",
   "id": "b9341aa0-1fec-4817-9c30-bdbddd3fdf6d",
   "metadata": {},
   "source": [
    "Les listes de nombres ne sont pas les seuls objets à pouvoir être parcourus."
   ]
  },
  {
   "cell_type": "code",
   "execution_count": 11,
   "id": "8e5fe499-0d32-4648-9183-b00fbbc998f0",
   "metadata": {},
   "outputs": [
    {
     "name": "stdout",
     "output_type": "stream",
     "text": [
      "Paris\n",
      "Londres\n",
      "Berlin\n",
      "Rome\n",
      "Bruxelles\n"
     ]
    }
   ],
   "source": [
    "ma_liste = [\"Paris\", \"Londres\", \"Berlin\", \"Rome\", \"Bruxelles\"]\n",
    "\n",
    "for ville ∈ ma_liste\n",
    "    println(ville)\n",
    "end"
   ]
  },
  {
   "cell_type": "markdown",
   "id": "bc9acc88-59e7-43dd-98fd-7b80310ca488",
   "metadata": {},
   "source": [
    "On peut aussi imbriquer de telles boucles."
   ]
  },
  {
   "cell_type": "code",
   "execution_count": 12,
   "id": "0e4a53fe-0735-4331-9c0a-09c36d7d4e8d",
   "metadata": {},
   "outputs": [
    {
     "name": "stdout",
     "output_type": "stream",
     "text": [
      "i=1 ; j=1\n",
      "i=1 ; j=2\n",
      "i=1 ; j=3\n",
      "i=1 ; j=4\n",
      "i=1 ; j=5\n",
      "i=2 ; j=1\n",
      "i=2 ; j=2\n",
      "i=2 ; j=3\n",
      "i=2 ; j=4\n",
      "i=2 ; j=5\n",
      "i=3 ; j=1\n",
      "i=3 ; j=2\n",
      "i=3 ; j=3\n",
      "i=3 ; j=4\n",
      "i=3 ; j=5\n",
      "i=4 ; j=1\n",
      "i=4 ; j=2\n",
      "i=4 ; j=3\n",
      "i=4 ; j=4\n",
      "i=4 ; j=5\n",
      "i=5 ; j=1\n",
      "i=5 ; j=2\n",
      "i=5 ; j=3\n",
      "i=5 ; j=4\n",
      "i=5 ; j=5\n"
     ]
    }
   ],
   "source": [
    "for i ∈ 1:5\n",
    "    for j ∈ 1:5\n",
    "        println(\"i=$i ; j=$j\")\n",
    "    end\n",
    "end"
   ]
  },
  {
   "cell_type": "code",
   "execution_count": 13,
   "id": "31d3baa9-623d-4d4b-a179-db692384b636",
   "metadata": {},
   "outputs": [
    {
     "name": "stdout",
     "output_type": "stream",
     "text": [
      "i=1 ; j=1\n",
      "i=1 ; j=2\n",
      "i=1 ; j=3\n",
      "i=1 ; j=4\n",
      "i=1 ; j=5\n",
      "i=2 ; j=1\n",
      "i=2 ; j=2\n",
      "i=2 ; j=3\n",
      "i=2 ; j=4\n",
      "i=2 ; j=5\n",
      "i=3 ; j=1\n",
      "i=3 ; j=2\n",
      "i=3 ; j=3\n",
      "i=3 ; j=4\n",
      "i=3 ; j=5\n",
      "i=4 ; j=1\n",
      "i=4 ; j=2\n",
      "i=4 ; j=3\n",
      "i=4 ; j=4\n",
      "i=4 ; j=5\n",
      "i=5 ; j=1\n",
      "i=5 ; j=2\n",
      "i=5 ; j=3\n",
      "i=5 ; j=4\n",
      "i=5 ; j=5\n"
     ]
    }
   ],
   "source": [
    "for i ∈ 1:5, j ∈ 1:5\n",
    "    println(\"i=$i ; j=$j\")\n",
    "end"
   ]
  },
  {
   "cell_type": "code",
   "execution_count": 14,
   "id": "ed0bbd7a-d34a-4b59-87d5-5d2be0367fcb",
   "metadata": {},
   "outputs": [
    {
     "name": "stdout",
     "output_type": "stream",
     "text": [
      "1\n",
      "2\n",
      "4\n",
      "5\n",
      "7\n",
      "8\n",
      "10\n",
      "11\n",
      "13\n",
      "14\n"
     ]
    }
   ],
   "source": [
    "for i ∈ 1:15\n",
    "    if i % 3 == 0\n",
    "        continue\n",
    "    end\n",
    "    println(i)\n",
    "end"
   ]
  },
  {
   "cell_type": "code",
   "execution_count": 15,
   "id": "9dae2984-d863-4588-a9f7-a93b9556ccaa",
   "metadata": {},
   "outputs": [],
   "source": [
    "for i ∈ 1:15\n",
    "    if i % 10 == 0\n",
    "        break\n",
    "    end\n",
    "end"
   ]
  },
  {
   "cell_type": "markdown",
   "id": "1ff5fc61-fce4-4db1-86cc-5c6c29ddceac",
   "metadata": {},
   "source": [
    "### Boucle `while`"
   ]
  },
  {
   "cell_type": "code",
   "execution_count": 16,
   "id": "9a54f25d-42bb-42c7-bcf9-60523c6e8de0",
   "metadata": {},
   "outputs": [
    {
     "name": "stdout",
     "output_type": "stream",
     "text": [
      "1\n",
      "2\n",
      "3\n",
      "4\n",
      "5\n"
     ]
    }
   ],
   "source": [
    "a = 1\n",
    "\n",
    "while a <= 5\n",
    "    println(a)\n",
    "    a += 1\n",
    "end"
   ]
  },
  {
   "cell_type": "markdown",
   "id": "c8a71c22-a2a8-41f5-a933-244aa7d425ce",
   "metadata": {},
   "source": [
    "## Gestion des erreurs"
   ]
  },
  {
   "cell_type": "markdown",
   "id": "1f644492-7c33-4173-8cf8-2011e87ae82f",
   "metadata": {},
   "source": [
    "Une manière de tester à la volée le comportement du code ou de l'utilisateur, et pour faciliter les opérations de débuggage, il est très utile d'utiliser la macro `@assert`."
   ]
  },
  {
   "cell_type": "code",
   "execution_count": 17,
   "id": "2eb90aaa-044c-4afe-bb29-97e6eee2cec0",
   "metadata": {},
   "outputs": [
    {
     "ename": "LoadError",
     "evalue": "AssertionError: Le nombre 0 n'est pas un nombre réel !",
     "output_type": "error",
     "traceback": [
      "AssertionError: Le nombre 0 n'est pas un nombre réel !",
      "",
      "Stacktrace:",
      " [1] top-level scope",
      "   @ In[17]:2",
      " [2] eval",
      "   @ .\\boot.jl:373 [inlined]",
      " [3] include_string(mapexpr::typeof(REPL.softscope), mod::Module, code::String, filename::String)",
      "   @ Base .\\loading.jl:1196"
     ]
    }
   ],
   "source": [
    "m = 0\n",
    "@assert typeof(m) == Float64 \"Le nombre $m n'est pas un nombre réel !\""
   ]
  },
  {
   "cell_type": "markdown",
   "id": "499f3da7-5c22-4981-9f94-88b98ebafcda",
   "metadata": {},
   "source": [
    "Pour le reste, se référer à **[1]**."
   ]
  },
  {
   "cell_type": "markdown",
   "id": "0576b089-6bf5-4d2d-b1cb-8d3d4b0bc401",
   "metadata": {},
   "source": [
    "## Référence"
   ]
  },
  {
   "cell_type": "markdown",
   "id": "5aae5a0e-1385-4022-9053-fe07ed313283",
   "metadata": {},
   "source": [
    "**[1]** *Documentation Julia sur les structures de contrôle*, [https://docs.julialang.org/en/v1/manual/control-flow/](https://docs.julialang.org/en/v1/manual/control-flow/)."
   ]
  }
 ],
 "metadata": {
  "kernelspec": {
   "display_name": "Julia 1.7.2",
   "language": "julia",
   "name": "julia-1.7"
  },
  "language_info": {
   "file_extension": ".jl",
   "mimetype": "application/julia",
   "name": "julia",
   "version": "1.7.2"
  }
 },
 "nbformat": 4,
 "nbformat_minor": 5
}
