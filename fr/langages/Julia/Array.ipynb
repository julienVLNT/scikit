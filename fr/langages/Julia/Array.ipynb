{
 "cells": [
  {
   "cell_type": "markdown",
   "id": "a5c2772f-48de-4ca9-82f6-cef1d49665a2",
   "metadata": {},
   "source": [
    "# Le type `Array`"
   ]
  },
  {
   "cell_type": "markdown",
   "id": "47bb4f99-4ed6-4c5f-80e1-b5c5c9099c98",
   "metadata": {},
   "source": [
    "## Introduction"
   ]
  },
  {
   "cell_type": "markdown",
   "id": "99de7b3c-19bb-49d2-be7a-707081e05b33",
   "metadata": {},
   "source": [
    "Le type `Array` représente une collection, ou un ensemble, de données. Ces données peuvent être d'un type arbitraire, et la collection n'est pas nécessairement homogène. "
   ]
  },
  {
   "cell_type": "markdown",
   "id": "365f847a-dc66-48d8-858a-776b19df3eb4",
   "metadata": {},
   "source": [
    "## L'`Array` vide"
   ]
  },
  {
   "cell_type": "code",
   "execution_count": 1,
   "id": "7a4c1cca-9a0c-48f6-ad37-1a9688d4e58f",
   "metadata": {},
   "outputs": [
    {
     "data": {
      "text/plain": [
       "Any[]"
      ]
     },
     "execution_count": 1,
     "metadata": {},
     "output_type": "execute_result"
    }
   ],
   "source": [
    "∅ = []"
   ]
  },
  {
   "cell_type": "code",
   "execution_count": 2,
   "id": "fe960e03-87b0-41c3-857a-fefe43f941f1",
   "metadata": {},
   "outputs": [
    {
     "data": {
      "text/plain": [
       "Vector{Any} (alias for Array{Any, 1})"
      ]
     },
     "execution_count": 2,
     "metadata": {},
     "output_type": "execute_result"
    }
   ],
   "source": [
    "typeof(∅)"
   ]
  },
  {
   "cell_type": "markdown",
   "id": "22417538-76e2-492b-ba71-e554e79dc9f8",
   "metadata": {},
   "source": [
    "## Un `Array` homogène"
   ]
  },
  {
   "cell_type": "markdown",
   "id": "9bff5e28-556b-4c75-a50d-6634b1b37003",
   "metadata": {},
   "source": [
    "On construit le vecteur contenant l'ensemble $\\{ 1, 2, -1 \\}$."
   ]
  },
  {
   "cell_type": "code",
   "execution_count": 3,
   "id": "6646befe-9509-4e7a-ae6c-2eda5888898b",
   "metadata": {},
   "outputs": [
    {
     "data": {
      "text/plain": [
       "3-element Vector{Float64}:\n",
       "  1.0\n",
       "  2.0\n",
       " -1.0"
      ]
     },
     "execution_count": 3,
     "metadata": {},
     "output_type": "execute_result"
    }
   ],
   "source": [
    "v = [1.0, 2.0, -1.0]"
   ]
  },
  {
   "cell_type": "markdown",
   "id": "606538f9-0eda-43eb-b48e-7a1ba0e50fe4",
   "metadata": {},
   "source": [
    "A sa création, il est possible de spécifier un type pour les données. En fait, la syntaxe complète pour la déclaration d'une liste d'objets est la suivante \n",
    "\n",
    "`Array{T}(data)`"
   ]
  },
  {
   "cell_type": "code",
   "execution_count": 4,
   "id": "c3a43acb-35f3-4421-bfbc-1c773c575113",
   "metadata": {},
   "outputs": [
    {
     "data": {
      "text/plain": [
       "3-element Vector{Int8}:\n",
       "  1\n",
       "  2\n",
       " -1"
      ]
     },
     "execution_count": 4,
     "metadata": {},
     "output_type": "execute_result"
    }
   ],
   "source": [
    " v = Array{Int8}([1.0, 2.0, -1.0])"
   ]
  },
  {
   "cell_type": "markdown",
   "id": "2d3f5946-d683-45fb-80ef-e685518e7409",
   "metadata": {},
   "source": [
    "## Un `Array` hétérogène"
   ]
  },
  {
   "cell_type": "code",
   "execution_count": 5,
   "id": "6b16ce5b-a290-4594-9c99-e29cf644dba4",
   "metadata": {},
   "outputs": [
    {
     "data": {
      "text/plain": [
       "4-element Vector{Any}:\n",
       "    \"Hello\"\n",
       "   1.0\n",
       "  -1\n",
       " 2 + 2im"
      ]
     },
     "execution_count": 5,
     "metadata": {},
     "output_type": "execute_result"
    }
   ],
   "source": [
    "v = [\"Hello\", 1.0, -1, 2+2im]"
   ]
  },
  {
   "cell_type": "markdown",
   "id": "d526f58e-ef66-4432-a607-20f11ee192a7",
   "metadata": {},
   "source": [
    "## L'imbrication d'objets `Array`"
   ]
  },
  {
   "cell_type": "code",
   "execution_count": 6,
   "id": "c373bc82-65b7-4f52-b4a7-3a4238ff6cff",
   "metadata": {},
   "outputs": [
    {
     "data": {
      "text/plain": [
       "3-element Vector{Vector{Int64}}:\n",
       " [1, 0, 0]\n",
       " [0, 1, 0]\n",
       " [0, 0, 1]"
      ]
     },
     "execution_count": 6,
     "metadata": {},
     "output_type": "execute_result"
    }
   ],
   "source": [
    "v = [ [1, 0, 0], [0, 1, 0], [0, 0, 1] ]"
   ]
  },
  {
   "cell_type": "markdown",
   "id": "6ac329dd-1a3d-4a32-bfe7-b627588ccc4a",
   "metadata": {},
   "source": [
    "## Sélection dans un `Array`"
   ]
  },
  {
   "cell_type": "code",
   "execution_count": 7,
   "id": "116410d3-fdd5-4008-905f-c74d25a2056b",
   "metadata": {},
   "outputs": [],
   "source": [
    "v = ['a', 'b', 'c', 'd', 'e', 'f'];"
   ]
  },
  {
   "cell_type": "markdown",
   "id": "2a38bf1b-69f2-4c92-a93c-dd227dbc8196",
   "metadata": {},
   "source": [
    "On peut sélectionner un unique élément à l'aide de son index. Pour mémoire, l'ensemble des indices commence à `1` et s'achève à `end`."
   ]
  },
  {
   "cell_type": "code",
   "execution_count": 8,
   "id": "02e47afb-7956-44c5-be1f-957d29a5082a",
   "metadata": {},
   "outputs": [
    {
     "data": {
      "text/plain": [
       "'a': ASCII/Unicode U+0061 (category Ll: Letter, lowercase)"
      ]
     },
     "execution_count": 8,
     "metadata": {},
     "output_type": "execute_result"
    }
   ],
   "source": [
    "v[1]"
   ]
  },
  {
   "cell_type": "code",
   "execution_count": 9,
   "id": "a6040f67-7dc6-4283-9e7b-a163b7b29dea",
   "metadata": {},
   "outputs": [
    {
     "data": {
      "text/plain": [
       "'f': ASCII/Unicode U+0066 (category Ll: Letter, lowercase)"
      ]
     },
     "execution_count": 9,
     "metadata": {},
     "output_type": "execute_result"
    }
   ],
   "source": [
    "v[end]"
   ]
  },
  {
   "cell_type": "markdown",
   "id": "3110cba9-a463-410b-8abd-ab4ab614c819",
   "metadata": {},
   "source": [
    "On peut également sélecionner une partie de la liste à l'aide d'une collection d'indices du type `start : stop` ou `start : step : stop`. On note que `stop` est inclus."
   ]
  },
  {
   "cell_type": "code",
   "execution_count": 10,
   "id": "29f64771-fdde-49a9-93b8-61153ba9964b",
   "metadata": {},
   "outputs": [
    {
     "data": {
      "text/plain": [
       "3-element Vector{Char}:\n",
       " 'b': ASCII/Unicode U+0062 (category Ll: Letter, lowercase)\n",
       " 'c': ASCII/Unicode U+0063 (category Ll: Letter, lowercase)\n",
       " 'd': ASCII/Unicode U+0064 (category Ll: Letter, lowercase)"
      ]
     },
     "execution_count": 10,
     "metadata": {},
     "output_type": "execute_result"
    }
   ],
   "source": [
    "v[2:4]"
   ]
  },
  {
   "cell_type": "code",
   "execution_count": 11,
   "id": "7675bfc6-e400-4aac-a4fe-9905c8537794",
   "metadata": {},
   "outputs": [
    {
     "data": {
      "text/plain": [
       "3-element Vector{Char}:\n",
       " 'a': ASCII/Unicode U+0061 (category Ll: Letter, lowercase)\n",
       " 'c': ASCII/Unicode U+0063 (category Ll: Letter, lowercase)\n",
       " 'e': ASCII/Unicode U+0065 (category Ll: Letter, lowercase)"
      ]
     },
     "execution_count": 11,
     "metadata": {},
     "output_type": "execute_result"
    }
   ],
   "source": [
    "v[1:2:end]"
   ]
  },
  {
   "cell_type": "markdown",
   "id": "363a94f2-5412-438e-8ec8-8ac4c2efb2a9",
   "metadata": {},
   "source": [
    "## Modification d'un ou de plusieurs éléments"
   ]
  },
  {
   "cell_type": "code",
   "execution_count": 12,
   "id": "8a3105f5-f20c-4b18-b02f-cdc6e8884095",
   "metadata": {},
   "outputs": [
    {
     "data": {
      "text/plain": [
       "6-element Vector{Int64}:\n",
       " 1\n",
       " 2\n",
       " 3\n",
       " 4\n",
       " 5\n",
       " 6"
      ]
     },
     "execution_count": 12,
     "metadata": {},
     "output_type": "execute_result"
    }
   ],
   "source": [
    "v = collect(range(1, 6, step=1))"
   ]
  },
  {
   "cell_type": "code",
   "execution_count": 13,
   "id": "7ab4350d-99df-4e55-9d29-0fb810db7963",
   "metadata": {},
   "outputs": [
    {
     "data": {
      "text/plain": [
       "6-element Vector{Int64}:\n",
       " -10\n",
       "   2\n",
       "   3\n",
       "   4\n",
       "   5\n",
       "   6"
      ]
     },
     "execution_count": 13,
     "metadata": {},
     "output_type": "execute_result"
    }
   ],
   "source": [
    "v[1] = -10\n",
    "v"
   ]
  },
  {
   "cell_type": "code",
   "execution_count": 14,
   "id": "bff44df2-3cd5-4fdd-9934-d0f4438671f3",
   "metadata": {},
   "outputs": [
    {
     "data": {
      "text/plain": [
       "6-element Vector{Int64}:\n",
       " 10\n",
       "  2\n",
       " -3\n",
       "  4\n",
       " -5\n",
       "  6"
      ]
     },
     "execution_count": 14,
     "metadata": {},
     "output_type": "execute_result"
    }
   ],
   "source": [
    "v = [i%2 == 0 ? v[i] : -v[i] for i in 1:6]"
   ]
  },
  {
   "cell_type": "markdown",
   "id": "715629de-993e-4b0d-a3ea-8ca3aa717573",
   "metadata": {},
   "source": [
    "## Parcours d'un objet `Array`"
   ]
  },
  {
   "cell_type": "markdown",
   "id": "50bfe1ea-842c-4055-b0b5-2a92308d3374",
   "metadata": {},
   "source": [
    "On peut parcourir deux choses : l'ensemble des valeurs ou l'ensemble des indices d'un objet `Array`."
   ]
  },
  {
   "cell_type": "code",
   "execution_count": 15,
   "id": "eac59a22-2f0c-46a1-8563-c072f0ed7e3a",
   "metadata": {},
   "outputs": [
    {
     "data": {
      "text/plain": [
       "15"
      ]
     },
     "execution_count": 15,
     "metadata": {},
     "output_type": "execute_result"
    }
   ],
   "source": [
    "v = collect(range(1, 5, step=1))\n",
    "res = 0\n",
    "for m ∈ v\n",
    "    res += m\n",
    "end\n",
    "res"
   ]
  },
  {
   "cell_type": "code",
   "execution_count": 16,
   "id": "381f9745-31e6-4f6a-82ae-6fcdecbd4864",
   "metadata": {},
   "outputs": [
    {
     "data": {
      "text/plain": [
       "5-element Vector{Int64}:\n",
       "  2\n",
       "  4\n",
       "  6\n",
       "  8\n",
       " 10"
      ]
     },
     "execution_count": 16,
     "metadata": {},
     "output_type": "execute_result"
    }
   ],
   "source": [
    "for i ∈ eachindex(v)\n",
    "    v[i] = v[i] * 2\n",
    "end\n",
    "v"
   ]
  },
  {
   "cell_type": "markdown",
   "id": "174285db-f2ee-4974-974a-c034a4127f98",
   "metadata": {},
   "source": [
    "## Opérations sur les `Array`"
   ]
  },
  {
   "cell_type": "code",
   "execution_count": 17,
   "id": "473143e2-8133-413d-a5b2-dbb2fd7cd46b",
   "metadata": {},
   "outputs": [
    {
     "data": {
      "text/plain": [
       "5-element Vector{Float64}:\n",
       " 0.0\n",
       " 0.25\n",
       " 0.5\n",
       " 0.75\n",
       " 1.0"
      ]
     },
     "execution_count": 17,
     "metadata": {},
     "output_type": "execute_result"
    }
   ],
   "source": [
    "v = collect(range(0, 1, 5))"
   ]
  },
  {
   "cell_type": "markdown",
   "id": "1ccadd77-b8c5-4f0c-8c79-4558dffba836",
   "metadata": {},
   "source": [
    "### Appartenance"
   ]
  },
  {
   "cell_type": "markdown",
   "id": "fb00de26-03e3-4fe9-9450-319a3aa58a55",
   "metadata": {},
   "source": [
    "L'opérateur d'appartenance s'écrit `∈` ou en langage naturel `in`."
   ]
  },
  {
   "cell_type": "code",
   "execution_count": 18,
   "id": "88c2a481-b0db-4831-956c-5f051ab2f9f0",
   "metadata": {},
   "outputs": [
    {
     "data": {
      "text/plain": [
       "true"
      ]
     },
     "execution_count": 18,
     "metadata": {},
     "output_type": "execute_result"
    }
   ],
   "source": [
    "0.5 ∈ v"
   ]
  },
  {
   "cell_type": "code",
   "execution_count": 19,
   "id": "637de2c0-746a-49a9-8b74-19301966be26",
   "metadata": {},
   "outputs": [
    {
     "data": {
      "text/plain": [
       "false"
      ]
     },
     "execution_count": 19,
     "metadata": {},
     "output_type": "execute_result"
    }
   ],
   "source": [
    "1.25 ∈ v"
   ]
  },
  {
   "cell_type": "markdown",
   "id": "bf2ed9b2-6543-4aa6-8a00-2ef006ecbcfb",
   "metadata": {},
   "source": [
    "### Ajouter ou supprimer des éléments"
   ]
  },
  {
   "cell_type": "markdown",
   "id": "bf3d3e08-28cd-40fa-8a4b-f80b574c333c",
   "metadata": {},
   "source": [
    "Les fonctions `push!(v, e)` et `pushfirst!(v, e)` permettent d'ajouter un élément respectivement en dernière et en première position"
   ]
  },
  {
   "cell_type": "code",
   "execution_count": 20,
   "id": "4186f047-ac3f-427d-8efe-7116d2387c67",
   "metadata": {},
   "outputs": [
    {
     "data": {
      "text/plain": [
       "6-element Vector{Float64}:\n",
       " 0.0\n",
       " 0.25\n",
       " 0.5\n",
       " 0.75\n",
       " 1.0\n",
       " 1.25"
      ]
     },
     "execution_count": 20,
     "metadata": {},
     "output_type": "execute_result"
    }
   ],
   "source": [
    "push!(v, 1.25)"
   ]
  },
  {
   "cell_type": "code",
   "execution_count": 21,
   "id": "6a3c2b4f-b1e7-4f25-88a1-3479c543da73",
   "metadata": {},
   "outputs": [
    {
     "data": {
      "text/plain": [
       "7-element Vector{Float64}:\n",
       " -0.25\n",
       "  0.0\n",
       "  0.25\n",
       "  0.5\n",
       "  0.75\n",
       "  1.0\n",
       "  1.25"
      ]
     },
     "execution_count": 21,
     "metadata": {},
     "output_type": "execute_result"
    }
   ],
   "source": [
    "pushfirst!(v, -0.25)"
   ]
  },
  {
   "cell_type": "markdown",
   "id": "7d152e0c-3110-46f4-a28f-919127278810",
   "metadata": {},
   "source": [
    "Pour ajouter l'élément en un indice arbitraire, on utilise `insert!(v, i, e)` où `i` est l'indice et `e` l'élément."
   ]
  },
  {
   "cell_type": "code",
   "execution_count": 22,
   "id": "5bdd8b3b-9284-4461-acda-0f33fb268ca1",
   "metadata": {},
   "outputs": [
    {
     "data": {
      "text/plain": [
       "8-element Vector{Float64}:\n",
       " -0.25\n",
       "  0.0\n",
       "  0.25\n",
       "  0.33\n",
       "  0.5\n",
       "  0.75\n",
       "  1.0\n",
       "  1.25"
      ]
     },
     "execution_count": 22,
     "metadata": {},
     "output_type": "execute_result"
    }
   ],
   "source": [
    "insert!(v, 4, 0.33)"
   ]
  },
  {
   "cell_type": "markdown",
   "id": "789b9e3e-05b0-4386-a31b-989995c99d99",
   "metadata": {},
   "source": [
    "La suppression des éléments se passe de la même manière. `pop!(v)` renvoie puis efface la dernière valeur de l'`Array`, `popfirst!(v)` renvoie puis efface la première valeur de `v`, `splice!(v, i)` renvoie puis efface l'entrée à l'indice `i`. Si on n'a pas besoin du retour de la valeur, on peut utiliser `deleteat!(v, i)`."
   ]
  },
  {
   "cell_type": "code",
   "execution_count": 23,
   "id": "367ccf07-5ac9-4638-aecc-e7ad3a60a279",
   "metadata": {},
   "outputs": [
    {
     "data": {
      "text/plain": [
       "-0.25"
      ]
     },
     "execution_count": 23,
     "metadata": {},
     "output_type": "execute_result"
    }
   ],
   "source": [
    "popfirst!(v)"
   ]
  },
  {
   "cell_type": "code",
   "execution_count": 24,
   "id": "0e1514e8-2635-4d55-a999-c93ce5a31b1f",
   "metadata": {},
   "outputs": [
    {
     "data": {
      "text/plain": [
       "1.25"
      ]
     },
     "execution_count": 24,
     "metadata": {},
     "output_type": "execute_result"
    }
   ],
   "source": [
    "pop!(v)"
   ]
  },
  {
   "cell_type": "code",
   "execution_count": 25,
   "id": "f0ff0670-6b86-4b7f-9164-de6961aa787b",
   "metadata": {},
   "outputs": [
    {
     "data": {
      "text/plain": [
       "5-element Vector{Float64}:\n",
       " 0.0\n",
       " 0.25\n",
       " 0.5\n",
       " 0.75\n",
       " 1.0"
      ]
     },
     "execution_count": 25,
     "metadata": {},
     "output_type": "execute_result"
    }
   ],
   "source": [
    "deleteat!(v, 3)"
   ]
  },
  {
   "cell_type": "markdown",
   "id": "1121792f-97d7-439f-8aae-ca6aed3735d0",
   "metadata": {},
   "source": [
    "### Concaténation"
   ]
  },
  {
   "cell_type": "code",
   "execution_count": 26,
   "id": "c7cdd3c0-6475-4c7f-ba29-9bbcc58a3e81",
   "metadata": {},
   "outputs": [
    {
     "data": {
      "text/plain": [
       "12-element Vector{String}:\n",
       " \"H\"\n",
       " \"e\"\n",
       " \"l\"\n",
       " \"l\"\n",
       " \"o\"\n",
       " \",\"\n",
       " \" \"\n",
       " \"W\"\n",
       " \"o\"\n",
       " \"r\"\n",
       " \"l\"\n",
       " \"d\""
      ]
     },
     "execution_count": 26,
     "metadata": {},
     "output_type": "execute_result"
    }
   ],
   "source": [
    "v1 = [\"H\", \"e\", \"l\", \"l\", \"o\"]\n",
    "v2 = [\",\", \" \"]\n",
    "v3 = [\"W\", \"o\", \"r\", \"l\", \"d\"]\n",
    "\n",
    "append!(v1, v2)\n",
    "append!(v1, v3)"
   ]
  },
  {
   "cell_type": "code",
   "execution_count": 27,
   "id": "ad9456dd-8de4-4e83-948c-835e4a596db3",
   "metadata": {},
   "outputs": [
    {
     "name": "stdout",
     "output_type": "stream",
     "text": [
      "[\"H\", \"e\", \"l\", \"l\", \"o\"] [\",\", \" \"] [\"W\", \"o\", \"r\", \"l\", \"d\"]\n",
      "[\"H\", \"e\", \"l\", \"l\", \"o\", \",\", \" \", \"W\", \"o\", \"r\", \"l\", \"d\"]\n"
     ]
    }
   ],
   "source": [
    "v1 = [\"H\", \"e\", \"l\", \"l\", \"o\"]\n",
    "v2 = [\",\", \" \"]\n",
    "v3 = [\"W\", \"o\", \"r\", \"l\", \"d\"]\n",
    "\n",
    "println(v1, \" \", v2, \" \", v3)\n",
    "println(cat(v1, v2, v3, dims=1))"
   ]
  },
  {
   "cell_type": "code",
   "execution_count": 28,
   "id": "15e4f472-394c-4c04-baf2-b03cabb4f690",
   "metadata": {},
   "outputs": [
    {
     "name": "stdout",
     "output_type": "stream",
     "text": [
      "[\"H\", \"e\", \"l\", \"l\", \"o\"] [\",\", \" \"] [\"W\", \"o\", \"r\", \"l\", \"d\"]\n",
      "[\"H\", \"e\", \"l\", \"l\", \"o\", \",\", \" \", \"W\", \"o\", \"r\", \"l\", \"d\"]\n"
     ]
    }
   ],
   "source": [
    "v1 = [\"H\", \"e\", \"l\", \"l\", \"o\"]\n",
    "v2 = [\",\", \" \"]\n",
    "v3 = [\"W\", \"o\", \"r\", \"l\", \"d\"]\n",
    "\n",
    "println(v1, \" \", v2, \" \", v3)\n",
    "println(vcat(v1, v2, v3))"
   ]
  },
  {
   "cell_type": "code",
   "execution_count": 29,
   "id": "4271c019-10fc-4145-934c-cfdc9d1b9cb5",
   "metadata": {},
   "outputs": [
    {
     "name": "stdout",
     "output_type": "stream",
     "text": [
      "[\"H\" \"e\" \"l\" \"l\" \"o\"] [\",\" \" \"] [\"W\" \"o\" \"r\" \"l\" \"d\"]\n",
      "[\"H\" \"e\" \"l\" \"l\" \"o\" \",\" \" \" \"W\" \"o\" \"r\" \"l\" \"d\"]\n"
     ]
    }
   ],
   "source": [
    "v1 = [\"H\" \"e\" \"l\" \"l\" \"o\"]\n",
    "v2 = [\",\" \" \"]\n",
    "v3 = [\"W\" \"o\" \"r\" \"l\" \"d\"]\n",
    "\n",
    "println(v1, \" \", v2, \" \", v3)\n",
    "println(cat(v1, v2, v3, dims=2))"
   ]
  },
  {
   "cell_type": "code",
   "execution_count": 30,
   "id": "8f3340da-a6a7-4df1-bed6-ac41e0e2b7ea",
   "metadata": {},
   "outputs": [
    {
     "name": "stdout",
     "output_type": "stream",
     "text": [
      "[\"H\" \"e\" \"l\" \"l\" \"o\"] [\",\" \" \"] [\"W\" \"o\" \"r\" \"l\" \"d\"]\n",
      "[\"H\" \"e\" \"l\" \"l\" \"o\" \",\" \" \" \"W\" \"o\" \"r\" \"l\" \"d\"]\n"
     ]
    }
   ],
   "source": [
    "v1 = [\"H\" \"e\" \"l\" \"l\" \"o\"]\n",
    "v2 = [\",\" \" \"]\n",
    "v3 = [\"W\" \"o\" \"r\" \"l\" \"d\"]\n",
    "\n",
    "println(v1, \" \", v2, \" \", v3)\n",
    "println(hcat(v1, v2, v3))"
   ]
  },
  {
   "cell_type": "markdown",
   "id": "539e2e45-6c48-44a9-93b4-98f12d4a1a45",
   "metadata": {},
   "source": [
    "## Références"
   ]
  },
  {
   "cell_type": "markdown",
   "id": "32b51111-6d95-42ef-8b17-b1de49bfd809",
   "metadata": {},
   "source": [
    "**[1]** *Documentation Julia sur le type `Array`*, [https://docs.julialang.org/en/v1/base/arrays/](https://docs.julialang.org/en/v1/base/arrays/).\n",
    "\n",
    "**[2]** *Think Julia : How to think like a computer scientist*, Ben Lauwens, Allen Downey, [https://benlauwens.github.io/ThinkJulia.jl/latest/book.html](https://benlauwens.github.io/ThinkJulia.jl/latest/book.html)"
   ]
  }
 ],
 "metadata": {
  "kernelspec": {
   "display_name": "Julia 1.7.2",
   "language": "julia",
   "name": "julia-1.7"
  },
  "language_info": {
   "file_extension": ".jl",
   "mimetype": "application/julia",
   "name": "julia",
   "version": "1.7.2"
  }
 },
 "nbformat": 4,
 "nbformat_minor": 5
}
