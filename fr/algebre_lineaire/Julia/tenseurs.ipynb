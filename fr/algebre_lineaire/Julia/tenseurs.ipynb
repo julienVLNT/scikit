{
 "cells": [
  {
   "cell_type": "markdown",
   "id": "56fbea66-e60d-4bb4-b143-7ee3961d21f2",
   "metadata": {},
   "source": [
    "# Calcul tensoriel avec Julia"
   ]
  },
  {
   "cell_type": "code",
   "execution_count": 1,
   "id": "ccdf6fee-d99b-40d1-9a30-a70fa5b2d49d",
   "metadata": {},
   "outputs": [],
   "source": [
    "using LinearAlgebra\n",
    "using Tensors"
   ]
  },
  {
   "cell_type": "markdown",
   "id": "8b433052-0308-4248-b700-be543d2e6e87",
   "metadata": {},
   "source": [
    "## Introduction"
   ]
  },
  {
   "cell_type": "markdown",
   "id": "a35ab0ff-798d-4ed0-b7c7-5e80f0f0367b",
   "metadata": {},
   "source": [
    "On explore ici le package Tensors.jl, qui offre objet et méthodes pour le calcul tensoriel en langage Julia. Les tenseurs sont des objets mathématiques abstraits trouvant de très nombreuses applications en physique : leur usage est largement répandu en mécanique, et notamment en théories de la relativité mais également en mécanique des milieux continus ; on donnera des exemples en théorie de l'élasticité, en mécanique des fluides...\n",
    "\n",
    "**Construction de tenseurs**\n",
    "\n",
    "| Commande                            | Fonction                                                                                      |\n",
    "|:------------------------------------|:----------------------------------------------------------------------------------------------|\n",
    "| `Tensor{N, d, T<:Real}(𝐱)`          | Construit le tenseur de rang `N ∈ [1 2 4]` à `d ∈ [1 2 3]` dimensions avec le type de données `T`. Ses entrées sont les éléments de `𝐱`. On s'assure que `length(𝐱)==d^N` |\n",
    "| `Tensor{N, d, T}( ( (i,j,... -> f(i,j,... ) ) )` | Construit le tenseur de rang `N` de dimension `d` dont les entrées sont `f(i,j,...)` $\\in \\mathbb R$ et le nombre d'indices correspond au rang du tenseur |\n",
    "| `SymmetricTensor{N, d, T<:Real}(𝐱)` | Construit le tenseur symétrique de rang `N ∈ [1 2 4]` à `d ∈ [1 2 3]` dimensions avec le type de données `T`. Ses entrées sont les éléments de `𝐱`. On s'assure que `length(𝐱)==d` |\n",
    "| `SymmetricTensor{N, d, T}( (i,j,...) -> f(i,j,... ) )` | Construit le tenseur symétrique de rang `N` de dimension `d` dont les entrées sont `f(i,j,...)` $\\in \\mathbb R$ |\n",
    "| `zero(Tensor{N, d, T})`             | Construit le tenseur nul de rang `N` à `d` dimensions                                         |\n",
    "| `zero(SymmetricTensor{N, d, T})`    | Construit le tenseur nul de rang `N` à `d` dimensions                                         |\n",
    "| `one(Tensor{N, d, T})`              | Construit le tenseur unité de rang `N` à `d` dimensions                                       |\n",
    "| `one(SymmetricTensor{N, d, T})`     | Construit le tenseur unité de rang `N` à `d` dimensions                                       |\n",
    "| `diagm(Tensor{2, d}, 𝐱)`            | Construit un tenseur diagonal de rang `2` à `d` dimensions dont les entrées sont les éléments de `𝐱`. On s'assure que `length(𝐱)==d` |\n",
    "| `rand(Tensor{N, d, T})`             | Construit un tenseur de rang `N` à `d` dimensions dont les entrées sont aléatoires            |\n",
    "| `rand(SymmetricTensor{N, d, T})`    | Construit un tenseur symétrique de rang `N` à `d` dimensions dont les entrées sont aléatoires |\n",
    "\n",
    "**Indexation**\n",
    "\n",
    "| Commande                                               | Fonction                                       |\n",
    "|:-------------------------------------------------------|:-----------------------------------------------|\n",
    "| `𝐓[i]` ; $1 \\leqslant i \\leqslant d$                   | Elément $t_{i}$ d'un tenseur de rang $1$       |\n",
    "| `𝐓[i, j]` ; $1 \\leqslant i, j \\leqslant d$             | Elément $t_{i,j}$ d'un tenseur de rang $2$     |\n",
    "| `𝐓[i, j, k, l]` ; $1 \\leqslant i, j, k, l \\leqslant d$ | Elément $t_{i,j,k,l}$ d'un tenseur de rang $4$ |\n",
    "\n",
    "**Structure de $\\mathbb R$-algèbre normée de dimension finie**\n",
    "\n",
    "<u> Structure de groupe pour $+$ </u>\n",
    "\n",
    "On a déjà vu comment construire le tenseur nul.\n",
    "\n",
    "| Commande | Fonction                           |\n",
    "|:---------|:-----------------------------------|\n",
    "| `+𝐓`     | Identité sur l'espace des tenseurs |\n",
    "| `-𝐓`     | Opposé du tenseur `𝐓`              |\n",
    "| `𝐒 + 𝐓`  | Somme des tenseurs `𝐒` et `𝐓`      |\n",
    "| `𝐒 - 𝐓`  | Différence des tenseurs `𝐒` et `𝐓` |\n",
    "\n",
    "**Différentiation des tenseurs de rang 2**\n",
    "\n",
    "| Commande                 | Fonction                                                |\n",
    "|:-------------------------|:--------------------------------------------------------|\n",
    "| `gradient(f, 𝐓, :all)`   | Calcul du gradient de la fonction $f$                   |\n",
    "| `divergence(f, 𝐓, :all`) | Calcul de la divergence du champ de vecteurs $f$        |\n",
    "| `curl(f, 𝐓, :all)`       | Calcul du rotationnel du champ de vecteurs $f$          |\n",
    "| `hessian(f, 𝐓, :all)`    | Calcul de la matrice hessienne du champ de tenseurs $f$ |\n",
    "| `laplace(f, 𝐓, :all)`    | Calcul du laplacien du champ de tenseurs $f$            |"
   ]
  },
  {
   "cell_type": "markdown",
   "id": "a00aa9c9-f969-4b73-a32b-7dbb4f73df14",
   "metadata": {},
   "source": [
    "## Tenseur de Kronecker"
   ]
  },
  {
   "cell_type": "markdown",
   "id": "98c89487-08c7-4d63-968f-0f3dc4c9ef98",
   "metadata": {},
   "source": [
    "### Kronecker de rang $2$"
   ]
  },
  {
   "cell_type": "markdown",
   "id": "c1dc8136-31ba-4d12-b706-6b2f1fe682b3",
   "metadata": {},
   "source": [
    "On définit le $2$-tenseur de Kronecker $$ \\delta(\\vec e_i \\otimes \\vec e_j) = \\left\\{ \\begin{array}{lr} 1 & i = j \\\\ 0 & i \\neq j \\end{array} \\right. $$"
   ]
  },
  {
   "cell_type": "code",
   "execution_count": 2,
   "id": "6c6c8e8c-de3c-41a2-96ad-07c994e3d695",
   "metadata": {},
   "outputs": [
    {
     "data": {
      "text/plain": [
       "1×1 Tensor{2, 1, Float64, 1}:\n",
       " 1.0"
      ]
     },
     "execution_count": 2,
     "metadata": {},
     "output_type": "execute_result"
    }
   ],
   "source": [
    "δ = Tensor{2, 1}( (i,j)->(i==j ? 1.0 : 0.0) )"
   ]
  },
  {
   "cell_type": "code",
   "execution_count": 3,
   "id": "793e9ef5-1688-46aa-bf32-06f23dbaf3aa",
   "metadata": {},
   "outputs": [
    {
     "data": {
      "text/plain": [
       "2×2 Tensor{2, 2, Float64, 4}:\n",
       " 1.0  0.0\n",
       " 0.0  1.0"
      ]
     },
     "execution_count": 3,
     "metadata": {},
     "output_type": "execute_result"
    }
   ],
   "source": [
    "δ = Tensor{2, 2}( (i,j)->(i==j ? 1.0 : 0.0) )"
   ]
  },
  {
   "cell_type": "code",
   "execution_count": 4,
   "id": "0727f4a1-ff7d-4453-a5d3-08f2f7d7b01c",
   "metadata": {},
   "outputs": [
    {
     "data": {
      "text/plain": [
       "3×3 Tensor{2, 3, Float64, 9}:\n",
       " 1.0  0.0  0.0\n",
       " 0.0  1.0  0.0\n",
       " 0.0  0.0  1.0"
      ]
     },
     "execution_count": 4,
     "metadata": {},
     "output_type": "execute_result"
    }
   ],
   "source": [
    "δ = Tensor{2, 3}( (i,j)->(i==j ? 1.0 : 0.0) )"
   ]
  },
  {
   "cell_type": "markdown",
   "id": "8c924758-f270-477b-a013-ceffc45fe81c",
   "metadata": {},
   "source": [
    "### Kronecker de rang $4$"
   ]
  },
  {
   "cell_type": "markdown",
   "id": "672ec70a-4195-4974-8035-d428bebbeb1a",
   "metadata": {},
   "source": [
    "Le $4$-tenseur de Kronecker est $$ \\delta(\\vec e_i \\otimes \\vec e_j \\otimes \\vec e_k \\otimes e_l) = \\left\\{ \\begin{array}{ll} 1 & i = j = k = l \\\\ 0 & i \\neq j \\end{array} \\right. $$"
   ]
  },
  {
   "cell_type": "code",
   "execution_count": 5,
   "id": "4365c0f3-a91a-4d98-8cb8-8fec4aa1de4c",
   "metadata": {},
   "outputs": [
    {
     "data": {
      "text/plain": [
       "1×1×1×1 Tensor{4, 1, Float64, 1}:\n",
       "[:, :, 1, 1] =\n",
       " 1.0"
      ]
     },
     "execution_count": 5,
     "metadata": {},
     "output_type": "execute_result"
    }
   ],
   "source": [
    "δ = Tensor{4, 1}( (i,j,k,l)->(i==j==k==l ? 1.0 : 0.0) )"
   ]
  },
  {
   "cell_type": "code",
   "execution_count": 6,
   "id": "669427fe-32c8-4955-b568-5db016c06d48",
   "metadata": {},
   "outputs": [
    {
     "data": {
      "text/plain": [
       "2×2×2×2 Tensor{4, 2, Float64, 16}:\n",
       "[:, :, 1, 1] =\n",
       " 1.0  0.0\n",
       " 0.0  0.0\n",
       "\n",
       "[:, :, 2, 1] =\n",
       " 0.0  0.0\n",
       " 0.0  0.0\n",
       "\n",
       "[:, :, 1, 2] =\n",
       " 0.0  0.0\n",
       " 0.0  0.0\n",
       "\n",
       "[:, :, 2, 2] =\n",
       " 0.0  0.0\n",
       " 0.0  1.0"
      ]
     },
     "execution_count": 6,
     "metadata": {},
     "output_type": "execute_result"
    }
   ],
   "source": [
    "δ = Tensor{4, 2}( (i,j,k,l)->(i==j==k==l ? 1.0 : 0.0) )"
   ]
  },
  {
   "cell_type": "code",
   "execution_count": 7,
   "id": "614c8d3e-dec9-4fbc-9bc9-35bc9dff734a",
   "metadata": {},
   "outputs": [
    {
     "data": {
      "text/plain": [
       "3×3×3×3 Tensor{4, 3, Float64, 81}:\n",
       "[:, :, 1, 1] =\n",
       " 1.0  0.0  0.0\n",
       " 0.0  0.0  0.0\n",
       " 0.0  0.0  0.0\n",
       "\n",
       "[:, :, 2, 1] =\n",
       " 0.0  0.0  0.0\n",
       " 0.0  0.0  0.0\n",
       " 0.0  0.0  0.0\n",
       "\n",
       "[:, :, 3, 1] =\n",
       " 0.0  0.0  0.0\n",
       " 0.0  0.0  0.0\n",
       " 0.0  0.0  0.0\n",
       "\n",
       "[:, :, 1, 2] =\n",
       " 0.0  0.0  0.0\n",
       " 0.0  0.0  0.0\n",
       " 0.0  0.0  0.0\n",
       "\n",
       "[:, :, 2, 2] =\n",
       " 0.0  0.0  0.0\n",
       " 0.0  1.0  0.0\n",
       " 0.0  0.0  0.0\n",
       "\n",
       "[:, :, 3, 2] =\n",
       " 0.0  0.0  0.0\n",
       " 0.0  0.0  0.0\n",
       " 0.0  0.0  0.0\n",
       "\n",
       "[:, :, 1, 3] =\n",
       " 0.0  0.0  0.0\n",
       " 0.0  0.0  0.0\n",
       " 0.0  0.0  0.0\n",
       "\n",
       "[:, :, 2, 3] =\n",
       " 0.0  0.0  0.0\n",
       " 0.0  0.0  0.0\n",
       " 0.0  0.0  0.0\n",
       "\n",
       "[:, :, 3, 3] =\n",
       " 0.0  0.0  0.0\n",
       " 0.0  0.0  0.0\n",
       " 0.0  0.0  1.0"
      ]
     },
     "execution_count": 7,
     "metadata": {},
     "output_type": "execute_result"
    }
   ],
   "source": [
    "δ = Tensor{4, 3}( (i,j,k,l)->(i==j==k==l ? 1.0 : 0.0) )"
   ]
  },
  {
   "cell_type": "markdown",
   "id": "575fa6b5-93f6-43d8-92dd-64407e4372e1",
   "metadata": {
    "tags": []
   },
   "source": [
    "## Tenseur métrique euclidien dans l'espace"
   ]
  },
  {
   "cell_type": "markdown",
   "id": "f84ab2c1-bbda-4378-bcd0-20eed0c42d2b",
   "metadata": {},
   "source": [
    "Soit $\\mathbb R^3$ muni de sa structure euclidienne. On note $$ \\mathcal B \\left( e_1, e_2, e_3\\right) := \\left( \\begin{bmatrix} 1 \\\\ 0 \\\\ 0 \\end{bmatrix}, \\begin{bmatrix} 0 \\\\ 1 \\\\ 0 \\end{bmatrix}, \\begin{bmatrix} 0 \\\\ 0 \\\\ 1 \\end{bmatrix} \\right) $$ sa base canonique."
   ]
  },
  {
   "cell_type": "markdown",
   "id": "02bb5a6d-a195-448d-8270-90c0701a1aee",
   "metadata": {},
   "source": [
    "Le produit scalaire de deux vecteurs $\\vec u, \\vec v$ s'écrit $$ (\\vec u | \\vec v) := \\vec u^T \\cdot \\vec v $$ soit, avec le tenseur métrique $$ \\eta := \\begin{bmatrix} 1 & 0 & 0 \\\\ 0 & 1 & 0 \\\\ 0 & 0 & 1 \\end{bmatrix} $$ on a $$ \\boxed{ (\\vec u | \\vec v) = \\vec u^T \\cdot \\eta \\cdot \\vec v } $$\n",
    "\n",
    "Vérifions que la base canonique est orthogonale. Déclarons la base canonique de $\\mathbb R^3$."
   ]
  },
  {
   "cell_type": "code",
   "execution_count": 8,
   "id": "3bdf5c33-25f8-4d2b-87fc-89c36d22589d",
   "metadata": {},
   "outputs": [
    {
     "data": {
      "text/plain": [
       "3-element Vector{Float64}:\n",
       " 0.0\n",
       " 0.0\n",
       " 1.0"
      ]
     },
     "execution_count": 8,
     "metadata": {},
     "output_type": "execute_result"
    }
   ],
   "source": [
    "e₁ = [1.0, 0.0, 0.0]\n",
    "e₂ = [0.0, 1.0, 0.0]\n",
    "e₃ = [0.0, 0.0, 1.0]"
   ]
  },
  {
   "cell_type": "markdown",
   "id": "3dc6987c-7e3b-4ca4-9c66-187760755027",
   "metadata": {},
   "source": [
    "Le $2$-tenseur métrique $\\eta$"
   ]
  },
  {
   "cell_type": "code",
   "execution_count": 9,
   "id": "5f7f6198-ee9f-45ce-9b36-a1aeaa60c471",
   "metadata": {},
   "outputs": [
    {
     "data": {
      "text/plain": [
       "3×3 Tensor{2, 3, Float64, 9}:\n",
       " 1.0  0.0  0.0\n",
       " 0.0  1.0  0.0\n",
       " 0.0  0.0  1.0"
      ]
     },
     "execution_count": 9,
     "metadata": {},
     "output_type": "execute_result"
    }
   ],
   "source": [
    "η = one(Tensor{2, 3})"
   ]
  },
  {
   "cell_type": "markdown",
   "id": "431ebe2d-e803-4831-b51d-6216c0bc7006",
   "metadata": {},
   "source": [
    "Calculons !"
   ]
  },
  {
   "cell_type": "code",
   "execution_count": 10,
   "id": "53ec8b49-6983-4995-a147-45dccf3b3a89",
   "metadata": {},
   "outputs": [
    {
     "data": {
      "text/plain": [
       "0.0"
      ]
     },
     "execution_count": 10,
     "metadata": {},
     "output_type": "execute_result"
    }
   ],
   "source": [
    "transpose(e₁) * η * e₂"
   ]
  },
  {
   "cell_type": "code",
   "execution_count": 11,
   "id": "c856e2aa-a08e-4bbc-ad52-6f20a1ff6d41",
   "metadata": {},
   "outputs": [
    {
     "data": {
      "text/plain": [
       "0.0"
      ]
     },
     "execution_count": 11,
     "metadata": {},
     "output_type": "execute_result"
    }
   ],
   "source": [
    "transpose(e₂) * η * e₃"
   ]
  },
  {
   "cell_type": "code",
   "execution_count": 12,
   "id": "9a723c68-cdbf-41de-ab0a-6b991c0c7058",
   "metadata": {},
   "outputs": [
    {
     "data": {
      "text/plain": [
       "0.0"
      ]
     },
     "execution_count": 12,
     "metadata": {},
     "output_type": "execute_result"
    }
   ],
   "source": [
    "transpose(e₃) * η * e₁"
   ]
  },
  {
   "cell_type": "markdown",
   "id": "37a8a22f-b74e-432e-a8fb-a7b250ec469d",
   "metadata": {},
   "source": [
    "D'autre part, on peut vérifier qu'ils sont normés. La norme d'un vecteur $\\vec u$ s'écrit $$ \\boxed{ \\| \\vec u \\| := \\sqrt{\\vec u^T \\cdot \\eta \\cdot \\vec u} } $$"
   ]
  },
  {
   "cell_type": "code",
   "execution_count": 13,
   "id": "f3949972-86e3-4b2b-bf1d-1c96263814ea",
   "metadata": {},
   "outputs": [
    {
     "data": {
      "text/plain": [
       "1.0"
      ]
     },
     "execution_count": 13,
     "metadata": {},
     "output_type": "execute_result"
    }
   ],
   "source": [
    "sqrt(transpose(e₁) * η * e₁)"
   ]
  },
  {
   "cell_type": "code",
   "execution_count": 14,
   "id": "a8c8f1ed-9855-460b-bc10-ec3e3252d7d1",
   "metadata": {},
   "outputs": [
    {
     "data": {
      "text/plain": [
       "1.0"
      ]
     },
     "execution_count": 14,
     "metadata": {},
     "output_type": "execute_result"
    }
   ],
   "source": [
    "sqrt(transpose(e₂) * η * e₂)"
   ]
  },
  {
   "cell_type": "code",
   "execution_count": 15,
   "id": "81b2ad1a-9dd2-4199-a1b5-17656ed9340f",
   "metadata": {},
   "outputs": [
    {
     "data": {
      "text/plain": [
       "1.0"
      ]
     },
     "execution_count": 15,
     "metadata": {},
     "output_type": "execute_result"
    }
   ],
   "source": [
    "sqrt(transpose(e₃) * η * e₃)"
   ]
  },
  {
   "cell_type": "markdown",
   "id": "dd47944f-dc94-44bc-aa08-35e5049cde43",
   "metadata": {},
   "source": [
    "## Tenseur métrique dans l'espace-temps de Minkowski $\\mathbb R \\times \\mathbb R^2$"
   ]
  },
  {
   "cell_type": "markdown",
   "id": "6d968ea0-1746-4ab3-b513-31c934f4c7fe",
   "metadata": {},
   "source": [
    "L'espace-temps de Minkowski est l'espace $\\mathbb R \\times \\mathbb R^{d-1}$ représentant une dimension temporelle et $d-1$ dimensions d'espace. La librairie Tensors.jl n'autorise pas plus de $3$ dimensions, d'où la représentation plane ici. On munit cet ensemble de la pseudo-métrique $$ g = \\begin{bmatrix} 1 & 0 & 0 \\\\ 0 & -1 & 0 \\\\ 0 & 0 & -1 \\end{bmatrix} $$ Cette convention peut être inversée et on utilise alors $g$ avec la signature $(2,1)$."
   ]
  },
  {
   "cell_type": "code",
   "execution_count": 16,
   "id": "c2463ebf-2370-4507-a55d-7afad6a49f3b",
   "metadata": {},
   "outputs": [
    {
     "data": {
      "text/plain": [
       "3×3 Tensor{2, 3, Float64, 9}:\n",
       " 1.0   0.0   0.0\n",
       " 0.0  -1.0   0.0\n",
       " 0.0   0.0  -1.0"
      ]
     },
     "execution_count": 16,
     "metadata": {},
     "output_type": "execute_result"
    }
   ],
   "source": [
    "g = Tensor{2, 3, Float64}( (i,j) -> i == j ? (i > 1 ? -1.0 : 1.0 ) : 0.0 )"
   ]
  },
  {
   "cell_type": "markdown",
   "id": "9bc08216-eb3c-4b1c-a3cb-6081134a88ce",
   "metadata": {},
   "source": [
    "## Tenseur métrique de Kerr"
   ]
  },
  {
   "cell_type": "markdown",
   "id": "7d4f2431-e9a6-42e6-b9da-5736d7749ea8",
   "metadata": {},
   "source": []
  },
  {
   "cell_type": "markdown",
   "id": "bb0c366e-a76c-428d-bacc-af5b69c79237",
   "metadata": {},
   "source": [
    "## Tenseur métrique de Friedman-Lemaître"
   ]
  },
  {
   "cell_type": "markdown",
   "id": "683a4797-d290-44a2-9b66-16bce800c518",
   "metadata": {},
   "source": []
  },
  {
   "cell_type": "markdown",
   "id": "8bf9fcc5-25ba-4961-a239-a03e90b1fa5d",
   "metadata": {},
   "source": [
    "## Tenseur des contraintes en mécanique des solides"
   ]
  },
  {
   "cell_type": "markdown",
   "id": "87701086-2aed-462e-9097-dc951375d381",
   "metadata": {},
   "source": []
  },
  {
   "cell_type": "markdown",
   "id": "24e301c8-d955-4f45-87c4-cdaed83c00e0",
   "metadata": {
    "tags": []
   },
   "source": [
    "## Tenseur des contraintes en mécanique des fluides"
   ]
  },
  {
   "cell_type": "markdown",
   "id": "d1010106-0adf-46a0-9baa-5d66bd2172f1",
   "metadata": {},
   "source": [
    "Soit $\\mu = 1.$. Soit $\\Omega$ un ouvert du plan. On considère le champ de vecteurs lisse\n",
    "\n",
    "\\begin{equation}\n",
    "\\mathbf{v} : \\left\\{\n",
    "\\begin{array}{rcl}\n",
    "\\Omega & \\longrightarrow & \\mathbb{R}^2 \\\\\n",
    "(x, y) & \\longmapsto     & \\begin{bmatrix} cos(x)sin(y) \\\\ -sin(x)cos(y) \\end{bmatrix}\n",
    "\\end{array}\n",
    "\\right.\n",
    "\\end{equation}\n",
    "\n",
    "Ce champ de vecteurs représente la vitesse d'écoulement d'un fluide incompressible visqueux à faible nombre de Reynolds (peu turbulent), ou il satisfait l'équation de Stokes. Il est classique dans les problèmes d'écoulement d'introduire le tenseur de rang deux $\\sigma$, fonction de $v$.\n",
    "\n",
    "\\begin{equation}\n",
    "\\sigma : \\mathbf{v} \\longmapsto \\dfrac{1}{2} \\left( \\nabla \\mathbf{v} + \\nabla \\mathbf{v}^T \\right) - p\\; \\text{Id}\n",
    "\\end{equation}"
   ]
  },
  {
   "cell_type": "code",
   "execution_count": null,
   "id": "2f10a679-a899-445a-a0ac-9de71d2401b5",
   "metadata": {},
   "outputs": [],
   "source": []
  },
  {
   "cell_type": "markdown",
   "id": "e339118a-9132-4251-8171-c5ec11db0c35",
   "metadata": {},
   "source": [
    "## Références"
   ]
  },
  {
   "cell_type": "markdown",
   "id": "c2604d5f-064c-4945-ae55-c78f24093805",
   "metadata": {},
   "source": [
    "**[1]** *Documentation de la librairie Tensors.jl* [https://ferrite-fem.github.io/Tensors.jl/stable/](https://ferrite-fem.github.io/Tensors.jl/stable/).\n",
    "\n",
    "**[2]** Carlsson, K. and Ekre, F., 2019. *Tensors.jl — Tensor Computations in Julia.*, Journal of Open Research Software, 7(1), p.7. DOI: [http://doi.org/10.5334/jors.182](http://doi.org/10.5334/jors.182)"
   ]
  }
 ],
 "metadata": {
  "kernelspec": {
   "display_name": "Julia 1.7.2",
   "language": "julia",
   "name": "julia-1.7"
  },
  "language_info": {
   "file_extension": ".jl",
   "mimetype": "application/julia",
   "name": "julia",
   "version": "1.7.2"
  }
 },
 "nbformat": 4,
 "nbformat_minor": 5
}
